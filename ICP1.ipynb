{
  "nbformat": 4,
  "nbformat_minor": 0,
  "metadata": {
    "colab": {
      "provenance": []
    },
    "kernelspec": {
      "name": "python3",
      "display_name": "Python 3"
    },
    "language_info": {
      "name": "python"
    }
  },
  "cells": [
    {
      "cell_type": "code",
      "execution_count": 5,
      "metadata": {
        "colab": {
          "base_uri": "https://localhost:8080/"
        },
        "id": "_lIZjYJjJy0e",
        "outputId": "bb210cbc-1c41-475b-d14e-ed34e9325110"
      },
      "outputs": [
        {
          "output_type": "stream",
          "name": "stdout",
          "text": [
            "Enter a string: neural network\n",
            "Reversed string: krowten laru\n"
          ]
        }
      ],
      "source": [
        "input_str = input(\"Enter a string: \")\n",
        "if len(input_str) < 2:\n",
        "    print(\"Input string must have at least 2 characters.\")\n",
        "else:\n",
        "    # Extracting the string starting from the third character\n",
        "    modified_str = input_str[2:]\n",
        "\n",
        "    # Reversing the extracted substring\n",
        "    reversed_str = modified_str[::-1]\n",
        "\n",
        "    print(\"Reversed string:\", reversed_str)"
      ]
    },
    {
      "cell_type": "code",
      "source": [
        "num1 = float(input(\"Enter First number: \"))\n",
        "num2 = float(input(\"Enter Second number: \"))\n",
        "print(\"Addition:\", num1+num2)\n",
        "print(\"Subtraction:\", num1-num2)\n",
        "print(\"Multiplication:\", num1*num2)\n",
        "print(\"Division:\", num1/num2)"
      ],
      "metadata": {
        "colab": {
          "base_uri": "https://localhost:8080/"
        },
        "id": "aG6XFe-CKO2n",
        "outputId": "7d4d9173-28f5-4277-8378-94f880267846"
      },
      "execution_count": 9,
      "outputs": [
        {
          "output_type": "stream",
          "name": "stdout",
          "text": [
            "Enter First number: 5\n",
            "Enter Second number: 10\n",
            "Addition: 15.0\n",
            "Subtraction: -5.0\n",
            "Multiplication: 50.0\n",
            "Division: 0.5\n"
          ]
        }
      ]
    },
    {
      "cell_type": "code",
      "source": [
        "input_sentence = input(\"Enter a sentence: \")\n",
        "\n",
        "# Using the replace() method to substitute 'python' with 'pythons'\n",
        "updated_sentence = input_sentence.replace('python', 'pythons')\n",
        "\n",
        "print(\"Updated Sentence:\", updated_sentence)\n"
      ],
      "metadata": {
        "colab": {
          "base_uri": "https://localhost:8080/"
        },
        "id": "DEsDc6gkKUAx",
        "outputId": "74a351cd-a032-4dfc-dff1-9cc4d3d85b2e"
      },
      "execution_count": 10,
      "outputs": [
        {
          "output_type": "stream",
          "name": "stdout",
          "text": [
            "Enter a sentence: python is easy to learn\n",
            "Updated Sentence: pythons is easy to learn\n"
          ]
        }
      ]
    },
    {
      "cell_type": "code",
      "source": [
        "score = int(input(\"Enter score: \"))\n",
        "if(score>=90):\n",
        "  print(\"YOUR GRADE IS \\'A' \")\n",
        "elif(score>=80 and score<90):\n",
        "  print(\"YOUR GRADE IS \\'B' \")\n",
        "elif(score>=70 and score<80):\n",
        "  print(\"YOUR GRADE IS \\'C' \")\n",
        "elif(score>=60 and score<70):\n",
        "  print(\"YOUR GRADE IS \\'D' \")\n",
        "else:\n",
        "  print(\"YOUR GRADE IS \\'F' \")"
      ],
      "metadata": {
        "colab": {
          "base_uri": "https://localhost:8080/"
        },
        "id": "Y1XDwC2CKg1p",
        "outputId": "79d00529-2767-4f3a-b2f4-d3f7b828b474"
      },
      "execution_count": 7,
      "outputs": [
        {
          "output_type": "stream",
          "name": "stdout",
          "text": [
            "Enter score: 67\n",
            "YOUR GRADE IS 'D' \n"
          ]
        }
      ]
    }
  ]
}